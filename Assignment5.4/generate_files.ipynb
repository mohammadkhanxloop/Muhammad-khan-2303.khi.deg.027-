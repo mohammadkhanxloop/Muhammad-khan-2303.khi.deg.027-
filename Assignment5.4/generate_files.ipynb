{
 "cells": [
  {
   "cell_type": "code",
   "execution_count": 146,
   "metadata": {},
   "outputs": [],
   "source": [
    "import pandas as pd\n",
    "\n",
    "\n",
    "def generate_parquets(file1_df, file2_df):\n",
    "    new_df1, new_df2  = file1_df.copy(), file1_df.copy()\n",
    "    new_df1['earnings'] = file1_df['earnings'] + file2_df['earnings']\n",
    "    new_df2['earnings'] = abs(file1_df['earnings'] - file2_df['earnings']) * 10 # Random formula\n",
    "\n",
    "    new_df1.to_parquet('./data/output_data/employee_earnings/earnings_date=2022-02-15/employee_earnings.parquet')\n",
    "    new_df2.to_parquet('./data/output_data/employee_earnings/earnings_date=2022-02-16/employee_earnings.parquet')\n",
    "    return \n",
    "\n",
    "# Load Data\n",
    "pd.read_parquet('./data/output_data/employee_earnings/earnings_date=2022-02-13/employee_earnings.parquet') \\\n",
    "    .to_csv('./data/file1.csv')\n",
    "pd.read_parquet('./data/output_data/employee_earnings/earnings_date=2022-02-14/employee_earnings.parquet') \\\n",
    "    .to_csv('./data/file2.csv')\n",
    " \n",
    "file1_df = pd.read_csv('./data/file1.csv')\n",
    "file2_df = pd.read_csv('./data/file2.csv')\n",
    "generate_parquets(file1_df, file2_df)\n"
   ]
  }
 ],
 "metadata": {
  "kernelspec": {
   "display_name": "office_env",
   "language": "python",
   "name": "python3"
  },
  "language_info": {
   "codemirror_mode": {
    "name": "ipython",
    "version": 3
   },
   "file_extension": ".py",
   "mimetype": "text/x-python",
   "name": "python",
   "nbconvert_exporter": "python",
   "pygments_lexer": "ipython3",
   "version": "3.11.2"
  },
  "orig_nbformat": 4
 },
 "nbformat": 4,
 "nbformat_minor": 2
}
