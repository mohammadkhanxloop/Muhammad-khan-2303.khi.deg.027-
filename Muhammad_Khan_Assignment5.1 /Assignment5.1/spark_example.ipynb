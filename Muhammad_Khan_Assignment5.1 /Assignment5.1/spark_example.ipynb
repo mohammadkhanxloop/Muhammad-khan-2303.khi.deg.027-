{
 "cells": [
  {
   "cell_type": "code",
   "execution_count": 10,
   "id": "dba8d356-4089-44b5-87ac-2e23f0efd1eb",
   "metadata": {
    "pycharm": {
     "name": "#%%\n"
    }
   },
   "outputs": [],
   "source": [
    "from pyspark.sql import SparkSession\n",
    "import pyspark.sql.functions  as F\n",
    "from pyspark.sql.types import IntegerType"
   ]
  },
  {
   "cell_type": "code",
   "execution_count": 11,
   "id": "7a6bfebe-3409-4034-b6ba-c34e465f1e39",
   "metadata": {
    "pycharm": {
     "name": "#%%\n"
    }
   },
   "outputs": [],
   "source": [
    "scSpark = SparkSession.builder.appName(\"Spark Example\").getOrCreate()"
   ]
  },
  {
   "cell_type": "code",
   "execution_count": 12,
   "id": "36bbf2c3-1448-4a01-9327-5d6bc575f1cc",
   "metadata": {
    "pycharm": {
     "name": "#%%\n"
    }
   },
   "outputs": [],
   "source": [
    "# Load Data\n",
    "transaction_df = scSpark.read.csv(\"./data/store_transactions/*.csv\", header=True)\n",
    "customer_df= scSpark.read.csv(\"./data/customers.csv\", header=True)\n",
    "product_df= scSpark.read.csv(\"./data/products.csv\", header=True)\n"
   ]
  },
  {
   "cell_type": "code",
   "execution_count": 13,
   "id": "fc47ef4a-83c7-4d3e-8626-80a0c3109da2",
   "metadata": {
    "pycharm": {
     "name": "#%%\n"
    }
   },
   "outputs": [
    {
     "name": "stdout",
     "output_type": "stream",
     "text": [
      "+-------+-------------+----------+---------+--------+-------------------+\n",
      "|StoreId|TransactionId|CustomerId|ProductId|Quantity|    TransactionTime|\n",
      "+-------+-------------+----------+---------+--------+-------------------+\n",
      "|      3|          454|        35|        3|       3|2022-12-23 17:36:11|\n",
      "|      3|          524|        37|        9|      11|2022-12-23 22:02:51|\n",
      "+-------+-------------+----------+---------+--------+-------------------+\n",
      "only showing top 2 rows\n",
      "\n",
      "+----------+--------------+--------------------+\n",
      "|CustomerId|          Name|               Email|\n",
      "+----------+--------------+--------------------+\n",
      "|         1|Emilia Pedraza|emilia.pedraza@ex...|\n",
      "|         2|  Thies Blümel|thies.blumel@exam...|\n",
      "+----------+--------------+--------------------+\n",
      "only showing top 2 rows\n",
      "\n",
      "+---------+------------+--------+---------+\n",
      "|ProductId|        Name|Category|UnitPrice|\n",
      "+---------+------------+--------+---------+\n",
      "|        1|  Red Shorts|  Shorts|    89.75|\n",
      "|        2|White Shorts|  Shorts|    89.27|\n",
      "+---------+------------+--------+---------+\n",
      "only showing top 2 rows\n",
      "\n"
     ]
    }
   ],
   "source": [
    "transaction_df.show(2)\n",
    "customer_df.show(2)\n",
    "product_df.show(2)"
   ]
  },
  {
   "attachments": {},
   "cell_type": "markdown",
   "id": "5b38c0ab",
   "metadata": {},
   "source": [
    "### Task 1\n",
    "What are the daily total sales for the store with id 1?\n"
   ]
  },
  {
   "cell_type": "code",
   "execution_count": 14,
   "id": "9a82339b-0958-4b3e-909b-4520defc0301",
   "metadata": {
    "pycharm": {
     "name": "#%%\n"
    }
   },
   "outputs": [
    {
     "name": "stdout",
     "output_type": "stream",
     "text": [
      "Daily total sales for the store with id 1: 41264.000000000015\n"
     ]
    }
   ],
   "source": [
    "def store_1_daily_sales():\n",
    "    store_1_df = transaction_df.filter(transaction_df['StoreId'] == 1)\n",
    "    store_1_df = store_1_df.join(product_df, store_1_df['ProductId'] == product_df['ProductId'], 'inner')\n",
    "\n",
    "    daily_sales = store_1_df.withColumn(\n",
    "        \"TotalSales\", (store_1_df[\"Quantity\"] * store_1_df[\"UnitPrice\"]))\n",
    "\n",
    "    return  daily_sales.select(F.sum(daily_sales[\"TotalSales\"])).first()[0]\n",
    "\n",
    "print(f'Daily total sales for the store with id 1: {store_1_daily_sales()}')"
   ]
  },
  {
   "attachments": {},
   "cell_type": "markdown",
   "id": "7f5b3a81",
   "metadata": {},
   "source": [
    "### Task 2\n",
    "What are the mean sales for the store with id 2?"
   ]
  },
  {
   "cell_type": "code",
   "execution_count": 15,
   "metadata": {},
   "outputs": [
    {
     "name": "stdout",
     "output_type": "stream",
     "text": [
      "Mean sales for the store with id 2: 513.4598039215689\n"
     ]
    }
   ],
   "source": [
    "def store_2_mean_sales():\n",
    "    store_2_df = transaction_df.filter(transaction_df['StoreId'] == 2)\n",
    "    store_2_df = store_2_df.join(product_df, store_2_df['ProductId'] == product_df['ProductId'], 'inner')\n",
    "\n",
    "    store2_daily_sales = store_2_df.withColumn(\n",
    "        \"TotalSales\", (store_2_df[\"Quantity\"] * store_2_df[\"UnitPrice\"]))\n",
    "\n",
    "    return store2_daily_sales.agg({'TotalSales': 'mean'}).first()[0]\n",
    "\n",
    "print(f'Mean sales for the store with id 2: {store_2_mean_sales()}')\n",
    "\n"
   ]
  },
  {
   "attachments": {},
   "cell_type": "markdown",
   "id": "f9203d5a",
   "metadata": {},
   "source": [
    "### Task 3\n",
    "What is the email of the client who spent the most when summing up purchases from all of the stores?"
   ]
  },
  {
   "cell_type": "code",
   "execution_count": 16,
   "id": "891b5906",
   "metadata": {},
   "outputs": [
    {
     "name": "stdout",
     "output_type": "stream",
     "text": [
      "Email of the client who spent the most when summing up purchases from all of the stores: dwayne.johnson@gmail.com\n"
     ]
    }
   ],
   "source": [
    "def client_max_purchase():\n",
    "    client_trans = transaction_df.join(customer_df, transaction_df['CustomerId'] == customer_df['CustomerId'], 'inner')\n",
    "    client_id = client_trans.join(product_df, client_trans['ProductId'] == product_df['ProductId'])\n",
    "    client_daily_sales = client_id.withColumn(\n",
    "        \"TotalSales\", (client_id[\"Quantity\"] * client_id[\"UnitPrice\"]))\n",
    "    \n",
    "    return client_daily_sales.groupBy('Email').agg(F.sum(F.col('TotalSales')).alias('sum')).orderBy(F.desc('sum')).first()[0]\n",
    "    \n",
    "print(f'Email of the client who spent the most when summing up purchases from all of the stores: {client_max_purchase()}')"
   ]
  },
  {
   "attachments": {},
   "cell_type": "markdown",
   "id": "83c80ab8",
   "metadata": {},
   "source": [
    "### Task 4\n",
    " Which 5 products are most frequently bought across all stores?\n"
   ]
  },
  {
   "cell_type": "code",
   "execution_count": 17,
   "id": "432de6fc",
   "metadata": {},
   "outputs": [
    {
     "name": "stdout",
     "output_type": "stream",
     "text": [
      "+-------------+-----------------------+\n",
      "|         Name|TotalQuantitiyPurchased|\n",
      "+-------------+-----------------------+\n",
      "|  Red t-shirt|                     82|\n",
      "|   Blue Jeans|                     77|\n",
      "|White t-shirt|                     76|\n",
      "| Black Shorts|                     75|\n",
      "| Green jacket|                     74|\n",
      "+-------------+-----------------------+\n",
      "only showing top 5 rows\n",
      "\n"
     ]
    }
   ],
   "source": [
    "def top__5_products():\n",
    "    products_store = transaction_df.join(product_df, transaction_df['ProductId'] == product_df['ProductId'], 'inner')\n",
    "    return products_store.groupBy('Name').agg(F.sum(F.col('Quantity').cast(IntegerType())).alias('TotalQuantitiyPurchased')).orderBy(F.desc('TotalQuantitiyPurchased')).show(5)\n",
    "\n",
    "top__5_products()"
   ]
  }
 ],
 "metadata": {
  "kernelspec": {
   "display_name": "Python 3 (ipykernel)",
   "language": "python",
   "name": "python3"
  },
  "language_info": {
   "codemirror_mode": {
    "name": "ipython",
    "version": 3
   },
   "file_extension": ".py",
   "mimetype": "text/x-python",
   "name": "python",
   "nbconvert_exporter": "python",
   "pygments_lexer": "ipython3",
   "version": "3.11.2"
  }
 },
 "nbformat": 4,
 "nbformat_minor": 5
}
